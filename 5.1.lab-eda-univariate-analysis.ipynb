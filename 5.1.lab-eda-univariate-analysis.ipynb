{
 "cells": [
  {
   "cell_type": "markdown",
   "id": "4891a2db-22c7-4f13-9233-f530a06d3e88",
   "metadata": {},
   "source": [
    "### **Lab - EDA Univariate Analysis: Diving into Amazon UK Product Insights**\n",
    "\n",
    "**Objective**: Explore the product listing dynamics on Amazon UK to extract actionable business insights. By understanding the distribution, central tendencies, and relationships of various product attributes, businesses can make more informed decisions on product positioning, pricing strategies, and inventory management.\n",
    "\n",
    "**Dataset**: This lab utilizes the Amazon UK product dataset which provides information on product categories, brands, prices, ratings, and more from from Amazon UK. You'll need to download it to start working with it."
   ]
  },
  {
   "cell_type": "code",
   "execution_count": 9,
   "id": "874d2772-e200-4220-af09-75f28d9b417a",
   "metadata": {},
   "outputs": [],
   "source": [
    "import pandas as pd\n",
    "import matplotlib.pyplot as plt\n",
    "import seaborn as sns\n",
    "import numpy as np"
   ]
  },
  {
   "cell_type": "code",
   "execution_count": 10,
   "id": "3ad33b6e-cbcd-46cc-9d02-51f93f3518ea",
   "metadata": {},
   "outputs": [],
   "source": [
    "%matplotlib inline"
   ]
  },
  {
   "cell_type": "code",
   "execution_count": 11,
   "id": "59a30614-f0aa-40b4-b20b-243e450316d2",
   "metadata": {},
   "outputs": [],
   "source": [
    "df = pd.read_csv(\"amz_uk_price_prediction_dataset.csv\") \n",
    "#\"C:\\Users\\merkm\\Dropbox\\!IronHack\\Week 5\\Labs Week 5\\5.1-lab-eda-univariate\\amz_uk_price_prediction_dataset.csv\""
   ]
  },
  {
   "cell_type": "code",
   "execution_count": 8,
   "id": "a1c5bb1f-8e39-4185-9224-6243eed8d258",
   "metadata": {},
   "outputs": [
    {
     "data": {
      "text/html": [
       "<div>\n",
       "<style scoped>\n",
       "    .dataframe tbody tr th:only-of-type {\n",
       "        vertical-align: middle;\n",
       "    }\n",
       "\n",
       "    .dataframe tbody tr th {\n",
       "        vertical-align: top;\n",
       "    }\n",
       "\n",
       "    .dataframe thead th {\n",
       "        text-align: right;\n",
       "    }\n",
       "</style>\n",
       "<table border=\"1\" class=\"dataframe\">\n",
       "  <thead>\n",
       "    <tr style=\"text-align: right;\">\n",
       "      <th></th>\n",
       "      <th>uid</th>\n",
       "      <th>asin</th>\n",
       "      <th>title</th>\n",
       "      <th>stars</th>\n",
       "      <th>reviews</th>\n",
       "      <th>price</th>\n",
       "      <th>isBestSeller</th>\n",
       "      <th>boughtInLastMonth</th>\n",
       "      <th>category</th>\n",
       "    </tr>\n",
       "  </thead>\n",
       "  <tbody>\n",
       "    <tr>\n",
       "      <th>0</th>\n",
       "      <td>1</td>\n",
       "      <td>B09B96TG33</td>\n",
       "      <td>Echo Dot (5th generation, 2022 release) | Big ...</td>\n",
       "      <td>4.7</td>\n",
       "      <td>15308</td>\n",
       "      <td>21.99</td>\n",
       "      <td>False</td>\n",
       "      <td>0</td>\n",
       "      <td>Hi-Fi Speakers</td>\n",
       "    </tr>\n",
       "    <tr>\n",
       "      <th>1</th>\n",
       "      <td>2</td>\n",
       "      <td>B01HTH3C8S</td>\n",
       "      <td>Anker Soundcore mini, Super-Portable Bluetooth...</td>\n",
       "      <td>4.7</td>\n",
       "      <td>98099</td>\n",
       "      <td>23.99</td>\n",
       "      <td>True</td>\n",
       "      <td>0</td>\n",
       "      <td>Hi-Fi Speakers</td>\n",
       "    </tr>\n",
       "    <tr>\n",
       "      <th>2</th>\n",
       "      <td>3</td>\n",
       "      <td>B09B8YWXDF</td>\n",
       "      <td>Echo Dot (5th generation, 2022 release) | Big ...</td>\n",
       "      <td>4.7</td>\n",
       "      <td>15308</td>\n",
       "      <td>21.99</td>\n",
       "      <td>False</td>\n",
       "      <td>0</td>\n",
       "      <td>Hi-Fi Speakers</td>\n",
       "    </tr>\n",
       "    <tr>\n",
       "      <th>3</th>\n",
       "      <td>4</td>\n",
       "      <td>B09B8T5VGV</td>\n",
       "      <td>Echo Dot with clock (5th generation, 2022 rele...</td>\n",
       "      <td>4.7</td>\n",
       "      <td>7205</td>\n",
       "      <td>31.99</td>\n",
       "      <td>False</td>\n",
       "      <td>0</td>\n",
       "      <td>Hi-Fi Speakers</td>\n",
       "    </tr>\n",
       "    <tr>\n",
       "      <th>4</th>\n",
       "      <td>5</td>\n",
       "      <td>B09WX6QD65</td>\n",
       "      <td>Introducing Echo Pop | Full sound compact Wi-F...</td>\n",
       "      <td>4.6</td>\n",
       "      <td>1881</td>\n",
       "      <td>17.99</td>\n",
       "      <td>False</td>\n",
       "      <td>0</td>\n",
       "      <td>Hi-Fi Speakers</td>\n",
       "    </tr>\n",
       "    <tr>\n",
       "      <th>...</th>\n",
       "      <td>...</td>\n",
       "      <td>...</td>\n",
       "      <td>...</td>\n",
       "      <td>...</td>\n",
       "      <td>...</td>\n",
       "      <td>...</td>\n",
       "      <td>...</td>\n",
       "      <td>...</td>\n",
       "      <td>...</td>\n",
       "    </tr>\n",
       "    <tr>\n",
       "      <th>2443646</th>\n",
       "      <td>2828589</td>\n",
       "      <td>B0CHSD7P2Q</td>\n",
       "      <td>Motorbike Armour, Motorbike Clothing, Cycling ...</td>\n",
       "      <td>0.0</td>\n",
       "      <td>0</td>\n",
       "      <td>22.34</td>\n",
       "      <td>False</td>\n",
       "      <td>0</td>\n",
       "      <td>Motorbike Clothing</td>\n",
       "    </tr>\n",
       "    <tr>\n",
       "      <th>2443647</th>\n",
       "      <td>2828590</td>\n",
       "      <td>B0B7B8FNBQ</td>\n",
       "      <td>PROFIRST Waterproof Motorcycle 2 Piece Ladies ...</td>\n",
       "      <td>0.0</td>\n",
       "      <td>0</td>\n",
       "      <td>97.99</td>\n",
       "      <td>False</td>\n",
       "      <td>0</td>\n",
       "      <td>Motorbike Clothing</td>\n",
       "    </tr>\n",
       "    <tr>\n",
       "      <th>2443648</th>\n",
       "      <td>2828591</td>\n",
       "      <td>B0BD5FL5FB</td>\n",
       "      <td>Men’s Motorcycle Motorbike Biker Trousers Kevl...</td>\n",
       "      <td>0.0</td>\n",
       "      <td>0</td>\n",
       "      <td>52.99</td>\n",
       "      <td>False</td>\n",
       "      <td>0</td>\n",
       "      <td>Motorbike Clothing</td>\n",
       "    </tr>\n",
       "    <tr>\n",
       "      <th>2443649</th>\n",
       "      <td>2828592</td>\n",
       "      <td>B008OYLL4I</td>\n",
       "      <td>Texpeed Mens Motorcycle Motorbike Biker Trouse...</td>\n",
       "      <td>4.3</td>\n",
       "      <td>404</td>\n",
       "      <td>79.99</td>\n",
       "      <td>False</td>\n",
       "      <td>0</td>\n",
       "      <td>Motorbike Clothing</td>\n",
       "    </tr>\n",
       "    <tr>\n",
       "      <th>2443650</th>\n",
       "      <td>2828593</td>\n",
       "      <td>B08P3W9B3T</td>\n",
       "      <td>RIDEX CJ223 Motorcycle Motorbike Jacket Armour...</td>\n",
       "      <td>4.5</td>\n",
       "      <td>34</td>\n",
       "      <td>53.99</td>\n",
       "      <td>False</td>\n",
       "      <td>0</td>\n",
       "      <td>Motorbike Clothing</td>\n",
       "    </tr>\n",
       "  </tbody>\n",
       "</table>\n",
       "<p>2443651 rows × 9 columns</p>\n",
       "</div>"
      ],
      "text/plain": [
       "             uid        asin  \\\n",
       "0              1  B09B96TG33   \n",
       "1              2  B01HTH3C8S   \n",
       "2              3  B09B8YWXDF   \n",
       "3              4  B09B8T5VGV   \n",
       "4              5  B09WX6QD65   \n",
       "...          ...         ...   \n",
       "2443646  2828589  B0CHSD7P2Q   \n",
       "2443647  2828590  B0B7B8FNBQ   \n",
       "2443648  2828591  B0BD5FL5FB   \n",
       "2443649  2828592  B008OYLL4I   \n",
       "2443650  2828593  B08P3W9B3T   \n",
       "\n",
       "                                                     title  stars  reviews  \\\n",
       "0        Echo Dot (5th generation, 2022 release) | Big ...    4.7    15308   \n",
       "1        Anker Soundcore mini, Super-Portable Bluetooth...    4.7    98099   \n",
       "2        Echo Dot (5th generation, 2022 release) | Big ...    4.7    15308   \n",
       "3        Echo Dot with clock (5th generation, 2022 rele...    4.7     7205   \n",
       "4        Introducing Echo Pop | Full sound compact Wi-F...    4.6     1881   \n",
       "...                                                    ...    ...      ...   \n",
       "2443646  Motorbike Armour, Motorbike Clothing, Cycling ...    0.0        0   \n",
       "2443647  PROFIRST Waterproof Motorcycle 2 Piece Ladies ...    0.0        0   \n",
       "2443648  Men’s Motorcycle Motorbike Biker Trousers Kevl...    0.0        0   \n",
       "2443649  Texpeed Mens Motorcycle Motorbike Biker Trouse...    4.3      404   \n",
       "2443650  RIDEX CJ223 Motorcycle Motorbike Jacket Armour...    4.5       34   \n",
       "\n",
       "         price  isBestSeller  boughtInLastMonth            category  \n",
       "0        21.99         False                  0      Hi-Fi Speakers  \n",
       "1        23.99          True                  0      Hi-Fi Speakers  \n",
       "2        21.99         False                  0      Hi-Fi Speakers  \n",
       "3        31.99         False                  0      Hi-Fi Speakers  \n",
       "4        17.99         False                  0      Hi-Fi Speakers  \n",
       "...        ...           ...                ...                 ...  \n",
       "2443646  22.34         False                  0  Motorbike Clothing  \n",
       "2443647  97.99         False                  0  Motorbike Clothing  \n",
       "2443648  52.99         False                  0  Motorbike Clothing  \n",
       "2443649  79.99         False                  0  Motorbike Clothing  \n",
       "2443650  53.99         False                  0  Motorbike Clothing  \n",
       "\n",
       "[2443651 rows x 9 columns]"
      ]
     },
     "execution_count": 8,
     "metadata": {},
     "output_type": "execute_result"
    }
   ],
   "source": [
    "df"
   ]
  },
  {
   "cell_type": "markdown",
   "id": "8d9397f7-4796-4648-aa21-543f7ac3a8b3",
   "metadata": {},
   "source": [
    "#### **Part 1: Understanding Product Categories**\n",
    "\n",
    "**Business Question**: What are the most popular product categories on Amazon UK, and how do they compare in terms of listing frequency?\n",
    "\n",
    "**1.1 Frequency Tables**:\n",
    "Generate a frequency table for the product category.\n",
    "Which are the top 5 most listed product categories?\n",
    "\n",
    "**1.2 Visualizations**:\n",
    "Display the distribution of products across different categories using a bar chart. If you face problems understanding the chart, do it for a subset of top categories.\n",
    "For a subset of top categories, visualize their proportions using a pie chart. Does any category dominate the listings?\n"
   ]
  },
  {
   "cell_type": "code",
   "execution_count": 12,
   "id": "c0c15b5d-968d-4864-ad72-17d4c62368ec",
   "metadata": {},
   "outputs": [
    {
     "data": {
      "text/plain": [
       "category\n",
       "Sports & Outdoors                         836265\n",
       "Beauty                                     19312\n",
       "Handmade Clothing, Shoes & Accessories     19229\n",
       "Bath & Body                                19092\n",
       "Birthday Gifts                             18978\n",
       "                                           ...  \n",
       "Alexa Built-In Devices                       107\n",
       "Motorbike Chassis                            107\n",
       "Plugs                                        107\n",
       "Smart Home Security & Lighting               104\n",
       "Smart Speakers                                54\n",
       "Name: count, Length: 296, dtype: int64"
      ]
     },
     "execution_count": 12,
     "metadata": {},
     "output_type": "execute_result"
    }
   ],
   "source": [
    "# 1.1 Frequency Tables: Generate a frequency table for the product category. Which are the top 5 most listed product categories?\n",
    "frequency_table = df['category'].value_counts()\n",
    "frequency_table\n",
    "# Answer: top 5 most listed prodcut categories are \n",
    "# Sports & Outdoors                         836265\n",
    "# Beauty                                     19312\n",
    "# Handmade Clothing, Shoes & Accessories     19229\n",
    "# Bath & Body                                19092\n",
    "# Birthday Gifts                             18978"
   ]
  },
  {
   "cell_type": "code",
   "execution_count": 24,
   "id": "4d62ba85-cbde-49b9-b976-9422d402e431",
   "metadata": {},
   "outputs": [
    {
     "name": "stderr",
     "output_type": "stream",
     "text": [
      "C:\\Users\\merkm\\AppData\\Local\\Temp\\ipykernel_26196\\2955668103.py:3: FutureWarning: \n",
      "\n",
      "Passing `palette` without assigning `hue` is deprecated and will be removed in v0.14.0. Assign the `x` variable to `hue` and set `legend=False` for the same effect.\n",
      "\n",
      "  sns.barplot(x=frequency_table.index, y=frequency_table.values, palette=\"Set3\");\n"
     ]
    },
    {
     "data": {
      "image/png": "[encoded data removed]",
      "text/plain": [
       "<Figure size 640x480 with 1 Axes>"
      ]
     },
     "metadata": {},
     "output_type": "display_data"
    }
   ],
   "source": [
    "# 1.2 Visualizations: Display the distribution of products across different categories using a bar chart. (If you face problems understanding the chart, do it for a subset of top categories.)\n",
    "sns.barplot(x=frequency_table.index, y=frequency_table.values, palette=\"Set3\");\n",
    "plt.show()\n",
    "#looks shit with all 296 categories - use head within next graph "
   ]
  },
  {
   "cell_type": "code",
   "execution_count": 28,
   "id": "cee3e14e-9222-460a-b958-126c08ab68ce",
   "metadata": {},
   "outputs": [
    {
     "name": "stderr",
     "output_type": "stream",
     "text": [
      "C:\\Users\\merkm\\AppData\\Local\\Temp\\ipykernel_26196\\525810627.py:1: FutureWarning: \n",
      "\n",
      "Passing `palette` without assigning `hue` is deprecated and will be removed in v0.14.0. Assign the `x` variable to `hue` and set `legend=False` for the same effect.\n",
      "\n",
      "  sns.barplot(x=frequency_table.head().index, y=frequency_table.head().values, palette=\"Set3\");\n"
     ]
    },
    {
     "data": {
      "image/png": "[encoded data removed]",
      "text/plain": [
       "<Figure size 640x480 with 1 Axes>"
      ]
     },
     "metadata": {},
     "output_type": "display_data"
    }
   ],
   "source": [
    "sns.barplot(x=frequency_table.head().index, y=frequency_table.head().values, palette=\"Set3\");\n",
    "plt.show()"
   ]
  },
  {
   "cell_type": "code",
   "execution_count": 35,
   "id": "050b302a-a96f-4ccf-bc90-011f2be68a2b",
   "metadata": {},
   "outputs": [
    {
     "name": "stderr",
     "output_type": "stream",
     "text": [
      "C:\\Users\\merkm\\AppData\\Local\\Temp\\ipykernel_26196\\4251354999.py:1: FutureWarning: \n",
      "\n",
      "Passing `palette` without assigning `hue` is deprecated and will be removed in v0.14.0. Assign the `x` variable to `hue` and set `legend=False` for the same effect.\n",
      "\n",
      "  sns.barplot(x=frequency_table.head().index, y=frequency_table.head().values, palette=\"Set3\")\n"
     ]
    },
    {
     "data": {
      "image/png": "[encoded data removed]",
      "text/plain": [
       "<Figure size 640x480 with 1 Axes>"
      ]
     },
     "metadata": {},
     "output_type": "display_data"
    }
   ],
   "source": [
    "sns.barplot(x=frequency_table.head().index, y=frequency_table.head().values, palette=\"Set3\")\n",
    "plt.xticks(rotation=90)\n",
    "plt.show()"
   ]
  },
  {
   "cell_type": "markdown",
   "id": "59e00b8c-8b48-4832-b6d5-0fd66f6315b2",
   "metadata": {},
   "source": [
    "#### **Part 2: Delving into Product Pricing**\n",
    "\n",
    "**Business Question**: How are products priced on Amazon UK, and are there specific price points or ranges that are more common?\n",
    "\n",
    "**2.1 Measures of Centrality**:\n",
    "Calculate the mean, median, and mode for the price of products.\n",
    "What's the average price point of products listed? How does this compare with the most common price point (mode)?\n",
    "\n",
    "**2.2 Measures of Dispersion**:\n",
    "Determine the variance, standard deviation, range, and interquartile range for product price.\n",
    "How varied are the product prices? Are there any indicators of a significant spread in prices?\n",
    "\n",
    "**2.3 Visualizations**:\n",
    "Is there a specific price range where most products fall? Plot a histogram to visualize the distribution of product prices. (If its hard to read these diagrams, think why this is, and explain how it could be solved.)\n",
    "Are there products that are priced significantly higher than the rest? Use a box plot to showcase the spread and potential outliers in product pricing.\n"
   ]
  },
  {
   "cell_type": "code",
   "execution_count": 43,
   "id": "a8226c17-a545-4097-a72e-a3119fae1249",
   "metadata": {},
   "outputs": [
    {
     "data": {
      "text/plain": [
       "(89.24380943923663,\n",
       " 19.09,\n",
       " 0    9.99\n",
       " Name: price, dtype: float64)"
      ]
     },
     "execution_count": 43,
     "metadata": {},
     "output_type": "execute_result"
    }
   ],
   "source": [
    "# 2.1 Measures of Centrality: Calculate the mean, median, and mode for the price of products. \n",
    "# What's the average price point of products listed? How does this compare with the most common price point (mode)?\n",
    "\n",
    "mean_price = df['price'].mean()\n",
    "median_price = df['price'].median()\n",
    "mode_price = df['price'].mode()[0] \n",
    "\n",
    "mean_price, median_price, mode_price\n",
    "# (89.24380943923663, 19.09, 9.99)"
   ]
  },
  {
   "cell_type": "code",
   "execution_count": 45,
   "id": "419974b4-438c-48ab-a191-b8e861c405bd",
   "metadata": {},
   "outputs": [
    {
     "data": {
      "text/plain": [
       "(119445.48532256528,\n",
       " 345.60886175352226,\n",
       " 0.0,\n",
       " 100000.0,\n",
       " 100000.0,\n",
       " 0.25     9.99\n",
       " 0.50    19.09\n",
       " 0.75    45.99\n",
       " Name: price, dtype: float64)"
      ]
     },
     "execution_count": 45,
     "metadata": {},
     "output_type": "execute_result"
    }
   ],
   "source": [
    "# 2.2 Measures of Dispersion: Determine the variance, standard deviation, range, and interquartile range for product price.\n",
    "# How varied are the product prices? Are there any indicators of a significant spread in prices?\n",
    "\n",
    "variance_price = df['price'].var()\n",
    "std_dev_price = df['price'].std()\n",
    "min_price = df['price'].min()\n",
    "max_price = df['price'].max()\n",
    "range_price = max_price - min_price\n",
    "quantiles_price = df['price'].quantile([0.25, 0.5, 0.75])\n",
    "\n",
    "variance_price, std_dev_price, min_price, max_price, range_price, quantiles_price\n",
    "# 119445.48532256528,\n",
    "# 345.60886175352226,\n",
    "# 0.0,\n",
    "# 100000.0,\n",
    "# 100000.0,\n",
    "# 0.25     9.99\n",
    "# 0.50    19.09\n",
    "# 0.75    45.99"
   ]
  },
  {
   "cell_type": "markdown",
   "id": "f0faba80-1d0e-4d25-ac53-32f168b97961",
   "metadata": {},
   "source": [
    "#### **Part 3: Unpacking Product Ratings**\n",
    "\n",
    "**Business Question**: How do customers rate products on Amazon UK, and are there any patterns or tendencies in the ratings?\n",
    "\n",
    "**3.1 Measures of Centrality**:\n",
    "        Calculate the mean, median, and mode for the rating of products.\n",
    "        How do customers generally rate products? Is there a common trend?\n",
    "\n",
    "**3.2 Measures of Dispersion**:\n",
    "        Determine the variance, standard deviation, and interquartile range for product rating.\n",
    "        Are the ratings consistent, or is there a wide variation in customer feedback?\n",
    "\n",
    "**3.3 Shape of the Distribution**:\n",
    "        Calculate the skewness and kurtosis for the rating column.\n",
    "        Are the ratings normally distributed, or do they lean towards higher or lower values?\n",
    "\n",
    "**3.4 Visualizations**:\n",
    "        Plot a histogram to visualize the distribution of product ratings. Is there a specific rating that is more common?\n"
   ]
  },
  {
   "cell_type": "code",
   "execution_count": 47,
   "id": "8c33ef64-dc16-4be5-911a-c1a46d59cf44",
   "metadata": {},
   "outputs": [
    {
     "data": {
      "text/html": [
       "<div>\n",
       "<style scoped>\n",
       "    .dataframe tbody tr th:only-of-type {\n",
       "        vertical-align: middle;\n",
       "    }\n",
       "\n",
       "    .dataframe tbody tr th {\n",
       "        vertical-align: top;\n",
       "    }\n",
       "\n",
       "    .dataframe thead th {\n",
       "        text-align: right;\n",
       "    }\n",
       "</style>\n",
       "<table border=\"1\" class=\"dataframe\">\n",
       "  <thead>\n",
       "    <tr style=\"text-align: right;\">\n",
       "      <th></th>\n",
       "      <th>uid</th>\n",
       "      <th>asin</th>\n",
       "      <th>title</th>\n",
       "      <th>stars</th>\n",
       "      <th>reviews</th>\n",
       "      <th>price</th>\n",
       "      <th>isBestSeller</th>\n",
       "      <th>boughtInLastMonth</th>\n",
       "      <th>category</th>\n",
       "    </tr>\n",
       "  </thead>\n",
       "  <tbody>\n",
       "    <tr>\n",
       "      <th>0</th>\n",
       "      <td>1</td>\n",
       "      <td>B09B96TG33</td>\n",
       "      <td>Echo Dot (5th generation, 2022 release) | Big ...</td>\n",
       "      <td>4.7</td>\n",
       "      <td>15308</td>\n",
       "      <td>21.99</td>\n",
       "      <td>False</td>\n",
       "      <td>0</td>\n",
       "      <td>Hi-Fi Speakers</td>\n",
       "    </tr>\n",
       "    <tr>\n",
       "      <th>1</th>\n",
       "      <td>2</td>\n",
       "      <td>B01HTH3C8S</td>\n",
       "      <td>Anker Soundcore mini, Super-Portable Bluetooth...</td>\n",
       "      <td>4.7</td>\n",
       "      <td>98099</td>\n",
       "      <td>23.99</td>\n",
       "      <td>True</td>\n",
       "      <td>0</td>\n",
       "      <td>Hi-Fi Speakers</td>\n",
       "    </tr>\n",
       "    <tr>\n",
       "      <th>2</th>\n",
       "      <td>3</td>\n",
       "      <td>B09B8YWXDF</td>\n",
       "      <td>Echo Dot (5th generation, 2022 release) | Big ...</td>\n",
       "      <td>4.7</td>\n",
       "      <td>15308</td>\n",
       "      <td>21.99</td>\n",
       "      <td>False</td>\n",
       "      <td>0</td>\n",
       "      <td>Hi-Fi Speakers</td>\n",
       "    </tr>\n",
       "    <tr>\n",
       "      <th>3</th>\n",
       "      <td>4</td>\n",
       "      <td>B09B8T5VGV</td>\n",
       "      <td>Echo Dot with clock (5th generation, 2022 rele...</td>\n",
       "      <td>4.7</td>\n",
       "      <td>7205</td>\n",
       "      <td>31.99</td>\n",
       "      <td>False</td>\n",
       "      <td>0</td>\n",
       "      <td>Hi-Fi Speakers</td>\n",
       "    </tr>\n",
       "    <tr>\n",
       "      <th>4</th>\n",
       "      <td>5</td>\n",
       "      <td>B09WX6QD65</td>\n",
       "      <td>Introducing Echo Pop | Full sound compact Wi-F...</td>\n",
       "      <td>4.6</td>\n",
       "      <td>1881</td>\n",
       "      <td>17.99</td>\n",
       "      <td>False</td>\n",
       "      <td>0</td>\n",
       "      <td>Hi-Fi Speakers</td>\n",
       "    </tr>\n",
       "    <tr>\n",
       "      <th>...</th>\n",
       "      <td>...</td>\n",
       "      <td>...</td>\n",
       "      <td>...</td>\n",
       "      <td>...</td>\n",
       "      <td>...</td>\n",
       "      <td>...</td>\n",
       "      <td>...</td>\n",
       "      <td>...</td>\n",
       "      <td>...</td>\n",
       "    </tr>\n",
       "    <tr>\n",
       "      <th>2443646</th>\n",
       "      <td>2828589</td>\n",
       "      <td>B0CHSD7P2Q</td>\n",
       "      <td>Motorbike Armour, Motorbike Clothing, Cycling ...</td>\n",
       "      <td>0.0</td>\n",
       "      <td>0</td>\n",
       "      <td>22.34</td>\n",
       "      <td>False</td>\n",
       "      <td>0</td>\n",
       "      <td>Motorbike Clothing</td>\n",
       "    </tr>\n",
       "    <tr>\n",
       "      <th>2443647</th>\n",
       "      <td>2828590</td>\n",
       "      <td>B0B7B8FNBQ</td>\n",
       "      <td>PROFIRST Waterproof Motorcycle 2 Piece Ladies ...</td>\n",
       "      <td>0.0</td>\n",
       "      <td>0</td>\n",
       "      <td>97.99</td>\n",
       "      <td>False</td>\n",
       "      <td>0</td>\n",
       "      <td>Motorbike Clothing</td>\n",
       "    </tr>\n",
       "    <tr>\n",
       "      <th>2443648</th>\n",
       "      <td>2828591</td>\n",
       "      <td>B0BD5FL5FB</td>\n",
       "      <td>Men’s Motorcycle Motorbike Biker Trousers Kevl...</td>\n",
       "      <td>0.0</td>\n",
       "      <td>0</td>\n",
       "      <td>52.99</td>\n",
       "      <td>False</td>\n",
       "      <td>0</td>\n",
       "      <td>Motorbike Clothing</td>\n",
       "    </tr>\n",
       "    <tr>\n",
       "      <th>2443649</th>\n",
       "      <td>2828592</td>\n",
       "      <td>B008OYLL4I</td>\n",
       "      <td>Texpeed Mens Motorcycle Motorbike Biker Trouse...</td>\n",
       "      <td>4.3</td>\n",
       "      <td>404</td>\n",
       "      <td>79.99</td>\n",
       "      <td>False</td>\n",
       "      <td>0</td>\n",
       "      <td>Motorbike Clothing</td>\n",
       "    </tr>\n",
       "    <tr>\n",
       "      <th>2443650</th>\n",
       "      <td>2828593</td>\n",
       "      <td>B08P3W9B3T</td>\n",
       "      <td>RIDEX CJ223 Motorcycle Motorbike Jacket Armour...</td>\n",
       "      <td>4.5</td>\n",
       "      <td>34</td>\n",
       "      <td>53.99</td>\n",
       "      <td>False</td>\n",
       "      <td>0</td>\n",
       "      <td>Motorbike Clothing</td>\n",
       "    </tr>\n",
       "  </tbody>\n",
       "</table>\n",
       "<p>2443651 rows × 9 columns</p>\n",
       "</div>"
      ],
      "text/plain": [
       "             uid        asin  \\\n",
       "0              1  B09B96TG33   \n",
       "1              2  B01HTH3C8S   \n",
       "2              3  B09B8YWXDF   \n",
       "3              4  B09B8T5VGV   \n",
       "4              5  B09WX6QD65   \n",
       "...          ...         ...   \n",
       "2443646  2828589  B0CHSD7P2Q   \n",
       "2443647  2828590  B0B7B8FNBQ   \n",
       "2443648  2828591  B0BD5FL5FB   \n",
       "2443649  2828592  B008OYLL4I   \n",
       "2443650  2828593  B08P3W9B3T   \n",
       "\n",
       "                                                     title  stars  reviews  \\\n",
       "0        Echo Dot (5th generation, 2022 release) | Big ...    4.7    15308   \n",
       "1        Anker Soundcore mini, Super-Portable Bluetooth...    4.7    98099   \n",
       "2        Echo Dot (5th generation, 2022 release) | Big ...    4.7    15308   \n",
       "3        Echo Dot with clock (5th generation, 2022 rele...    4.7     7205   \n",
       "4        Introducing Echo Pop | Full sound compact Wi-F...    4.6     1881   \n",
       "...                                                    ...    ...      ...   \n",
       "2443646  Motorbike Armour, Motorbike Clothing, Cycling ...    0.0        0   \n",
       "2443647  PROFIRST Waterproof Motorcycle 2 Piece Ladies ...    0.0        0   \n",
       "2443648  Men’s Motorcycle Motorbike Biker Trousers Kevl...    0.0        0   \n",
       "2443649  Texpeed Mens Motorcycle Motorbike Biker Trouse...    4.3      404   \n",
       "2443650  RIDEX CJ223 Motorcycle Motorbike Jacket Armour...    4.5       34   \n",
       "\n",
       "         price  isBestSeller  boughtInLastMonth            category  \n",
       "0        21.99         False                  0      Hi-Fi Speakers  \n",
       "1        23.99          True                  0      Hi-Fi Speakers  \n",
       "2        21.99         False                  0      Hi-Fi Speakers  \n",
       "3        31.99         False                  0      Hi-Fi Speakers  \n",
       "4        17.99         False                  0      Hi-Fi Speakers  \n",
       "...        ...           ...                ...                 ...  \n",
       "2443646  22.34         False                  0  Motorbike Clothing  \n",
       "2443647  97.99         False                  0  Motorbike Clothing  \n",
       "2443648  52.99         False                  0  Motorbike Clothing  \n",
       "2443649  79.99         False                  0  Motorbike Clothing  \n",
       "2443650  53.99         False                  0  Motorbike Clothing  \n",
       "\n",
       "[2443651 rows x 9 columns]"
      ]
     },
     "execution_count": 47,
     "metadata": {},
     "output_type": "execute_result"
    }
   ],
   "source": [
    "df"
   ]
  },
  {
   "cell_type": "code",
   "execution_count": 71,
   "id": "80509157-a429-4976-b99f-2c848ba95d0c",
   "metadata": {},
   "outputs": [
    {
     "data": {
      "text/plain": [
       "(2.152836472966065, 0.0, 0.0)"
      ]
     },
     "execution_count": 71,
     "metadata": {},
     "output_type": "execute_result"
    }
   ],
   "source": [
    "# 3.1 Measures of Centrality: Calculate the mean, median, and mode for the rating of products. \n",
    "# How do customers generally rate products? Is there a common trend?\n",
    "# !!! ITS STARS NOT REVIEWS\n",
    "mean_reviews = df['reviews'].mean()\n",
    "median_reviews = df['reviews'].median()\n",
    "mode_reviews= df['reviews'].mode()[0] \n",
    "\n",
    "mean_reviews, median_reviews, mode_reviews\n",
    "# (2.152836472966065, 0.0, 0.0)"
   ]
  },
  {
   "cell_type": "code",
   "execution_count": null,
   "id": "3bb80354-d358-4bd2-87a6-427c1d8d550a",
   "metadata": {},
   "outputs": [],
   "source": [
    "# Zero as value for median/ mode does not mean zero stars, but instead that the most common is that producst DO NOT HAVE A RATING at all = common trend is products with 0 reviews"
   ]
  },
  {
   "cell_type": "code",
   "execution_count": 59,
   "id": "2c5bd629-d81f-4a5d-933c-b974573db492",
   "metadata": {},
   "outputs": [
    {
     "data": {
      "text/plain": [
       "(35332611.92181505,\n",
       " 5944.124150942261,\n",
       " 0.25     0.0\n",
       " 0.50     0.0\n",
       " 0.75    59.0\n",
       " Name: reviews, dtype: float64)"
      ]
     },
     "execution_count": 59,
     "metadata": {},
     "output_type": "execute_result"
    }
   ],
   "source": [
    "# 3.2 Measures of Dispersion: Determine the variance, standard deviation, and interquartile range for product rating.\n",
    "# Are the ratings consistent, or is there a wide variation in customer feedback?\n",
    "\n",
    "variance_reviews = df['reviews'].var()\n",
    "std_dev_reviews = df['reviews'].std()\n",
    "quantiles_reviews = df['reviews'].quantile([0.25, 0.5, 0.75])\n",
    "\n",
    "variance_reviews, std_dev_reviews, quantiles_reviews \n",
    "\n",
    "# Answer: Rather wide variation in customer feedback."
   ]
  },
  {
   "cell_type": "code",
   "execution_count": 61,
   "id": "574c101b-23d3-419f-b0e4-fbb3bbe84ab2",
   "metadata": {},
   "outputs": [
    {
     "data": {
      "text/plain": [
       "(102.81782179557166, 17741.01460473757)"
      ]
     },
     "execution_count": 61,
     "metadata": {},
     "output_type": "execute_result"
    }
   ],
   "source": [
    "# 3.3 Shape of the Distribution: Calculate the skewness and kurtosis for the rating column. \n",
    "# Are the ratings normally distributed, or do they lean towards higher or lower values?\n",
    "\n",
    "skewness_reviews = df['reviews'].skew()\n",
    "kurtosis_reviews = df['reviews'].kurtosis()\n",
    "\n",
    "skewness_reviews, kurtosis_reviews\n",
    "\n",
    "# Answer: Evidentally not normally distributed values (102.81782179557166, 17741.01460473757)"
   ]
  },
  {
   "cell_type": "code",
   "execution_count": 69,
   "id": "753402e4-5fb2-426d-a5a4-da29f1ce50f5",
   "metadata": {},
   "outputs": [
    {
     "data": {
      "image/png": "[encoded data removed]",
      "text/plain": [
       "<Figure size 640x480 with 1 Axes>"
      ]
     },
     "metadata": {},
     "output_type": "display_data"
    }
   ],
   "source": [
    "# 3.4 Visualizations**: Plot a histogram to visualize the distribution of product ratings. Is there a specific rating that is more common?\n",
    "sns.histplot(df['stars'], kde=True, bins=30, color=\"salmon\")\n",
    "plt.show()\n",
    "# Answer: yes, 0 most common rating "
   ]
  },
  {
   "cell_type": "markdown",
   "id": "f167fcd1-7bf7-4613-9b1a-b8bdbfc97ddb",
   "metadata": {},
   "source": [
    "**Submission**: Submit a Jupyter Notebook which contains code and a business-centric report summarizing your findings."
   ]
  }
 ],
 "metadata": {
  "kernelspec": {
   "display_name": "Python [conda env:base] *",
   "language": "python",
   "name": "conda-base-py"
  },
  "language_info": {
   "codemirror_mode": {
    "name": "ipython",
    "version": 3
   },
   "file_extension": ".py",
   "mimetype": "text/x-python",
   "name": "python",
   "nbconvert_exporter": "python",
   "pygments_lexer": "ipython3",
   "version": "3.12.7"
  }
 },
 "nbformat": 4,
 "nbformat_minor": 5
}
